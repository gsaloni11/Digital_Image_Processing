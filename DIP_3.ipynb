{
 "cells": [
  {
   "cell_type": "code",
   "execution_count": 1,
   "metadata": {},
   "outputs": [],
   "source": [
    "import cv2\n",
    "from PIL import Image\n",
    "import numpy as np"
   ]
  },
  {
   "cell_type": "markdown",
   "metadata": {},
   "source": [
    "#### GrayScale Conversion"
   ]
  },
  {
   "cell_type": "code",
   "execution_count": 10,
   "metadata": {},
   "outputs": [],
   "source": [
    "from PIL import Image\n",
    "org_img = Image.open('Pooh.jpg')\n",
    "gray_img = org_img.convert('L')\n",
    "gray_img.save('Grayscale.jpg')"
   ]
  },
  {
   "cell_type": "markdown",
   "metadata": {},
   "source": [
    "#### Black 'n White Conversion"
   ]
  },
  {
   "cell_type": "code",
   "execution_count": 11,
   "metadata": {},
   "outputs": [],
   "source": [
    "from PIL import Image\n",
    "org_img = Image.open('Pooh.jpg')\n",
    "bnw_img = org_img.convert('1',dither=Image.NONE)\n",
    "bnw_img.save('BlackWhite.jpg')"
   ]
  },
  {
   "cell_type": "markdown",
   "metadata": {},
   "source": [
    "### Image Enhancement"
   ]
  },
  {
   "cell_type": "markdown",
   "metadata": {},
   "source": [
    "#### Linear Transformation\n",
    "\n",
    "Linear transformation includes simple identity and negative transformation.\n",
    "\n",
    "Simple identity - input and output image is same.\n",
    "\n",
    "Negative Transformation"
   ]
  },
  {
   "cell_type": "code",
   "execution_count": 4,
   "metadata": {},
   "outputs": [],
   "source": [
    "img = cv2.imread ('Pooh.jpg')\n",
    "img_neg = ~img\n",
    "cv2.imshow (\"Negative img\", img_neg)\n",
    "cv2.waitKey (0)\n",
    "cv2.destroyAllWindows ()"
   ]
  },
  {
   "cell_type": "markdown",
   "metadata": {},
   "source": [
    "#### Log Transformation"
   ]
  },
  {
   "cell_type": "code",
   "execution_count": 13,
   "metadata": {},
   "outputs": [],
   "source": [
    "org_img = cv2.imread('Pooh.jpg')\n",
    "c = 255 / np.log (1 + np.max (org_img)) \n",
    "img_log = c * np.log (org_img + 1)\n",
    "img_log = np.array (img_log, dtype = np.uint8) \n",
    "cv2.imshow (f\"Log transformed img, c = {c}\", img_log)\n",
    "cv2.waitKey (0)\n",
    "cv2.destroyAllWindows ()"
   ]
  },
  {
   "cell_type": "markdown",
   "metadata": {},
   "source": [
    "#### Power Law Transformation"
   ]
  },
  {
   "cell_type": "code",
   "execution_count": 17,
   "metadata": {},
   "outputs": [],
   "source": [
    "org_img = cv2.imread('Pooh.jpg')\n",
    "gamma_img = np.array(255*(org_img/255)**1.2,dtype='uint8')\n",
    "cv2.imshow('Gamma_1.2',gamma_img)\n",
    "cv2.waitKey(0)\n",
    "cv2.destroyAllWindows ()"
   ]
  },
  {
   "cell_type": "code",
   "execution_count": 14,
   "metadata": {},
   "outputs": [],
   "source": [
    "org_img = cv2.imread('Pooh.jpg')\n",
    "gamma_img = np.array(255*(org_img/255)**2.2,dtype='uint8')\n",
    "cv2.imshow('Gamma_2.2',gamma_img)\n",
    "cv2.waitKey(0)\n",
    "cv2.destroyAllWindows ()"
   ]
  },
  {
   "cell_type": "markdown",
   "metadata": {},
   "source": [
    "#### Mean Filter"
   ]
  },
  {
   "cell_type": "code",
   "execution_count": 7,
   "metadata": {},
   "outputs": [
    {
     "data": {
      "text/plain": [
       "<function destroyAllWindows>"
      ]
     },
     "execution_count": 7,
     "metadata": {},
     "output_type": "execute_result"
    }
   ],
   "source": [
    "org_img = cv2.imread('Pooh.jpg')\n",
    "mean_img = cv2.blur(org_img,(9,9))\n",
    "cv2.imshow('img_mean',mean_img)\n",
    "cv2.waitKey(0)       \n",
    "cv2.destroyAllWindows"
   ]
  },
  {
   "cell_type": "markdown",
   "metadata": {},
   "source": [
    "#### Median Filter"
   ]
  },
  {
   "cell_type": "code",
   "execution_count": 18,
   "metadata": {},
   "outputs": [
    {
     "data": {
      "text/plain": [
       "<function destroyAllWindows>"
      ]
     },
     "execution_count": 18,
     "metadata": {},
     "output_type": "execute_result"
    }
   ],
   "source": [
    "org_img = cv2.imread('Pooh.jpg') \n",
    "median_img = cv2.medianBlur(org_img, 5) \n",
    "cv2.imshow('img_med', median_img) \n",
    "cv2.waitKey(0)        \n",
    "cv2.destroyAllWindows "
   ]
  },
  {
   "cell_type": "markdown",
   "metadata": {},
   "source": [
    "#### Gaussian Filter"
   ]
  },
  {
   "cell_type": "code",
   "execution_count": 25,
   "metadata": {},
   "outputs": [],
   "source": [
    "org_img = cv2.imread('Pooh.jpg')\n",
    "gaus_img = cv2.GaussianBlur(img,(5,5),cv2.BORDER_DEFAULT) \n",
    "cv2.imshow('Gaus_Imag', gaus_img)\n",
    "cv2.waitKey(0);\n",
    "cv2.destroyAllWindows();"
   ]
  },
  {
   "cell_type": "markdown",
   "metadata": {},
   "source": [
    "#### Sharpening Filter"
   ]
  },
  {
   "cell_type": "code",
   "execution_count": 10,
   "metadata": {},
   "outputs": [],
   "source": [
    "from PIL import Image\n",
    "from PIL import ImageFilter\n",
    "\n",
    "img = Image.open('Pooh.jpg')\n",
    "sharpen = img.filter(ImageFilter.SHARPEN)\n",
    "sharpen.show()"
   ]
  },
  {
   "cell_type": "code",
   "execution_count": null,
   "metadata": {},
   "outputs": [],
   "source": []
  }
 ],
 "metadata": {
  "kernelspec": {
   "display_name": "Python 3",
   "language": "python",
   "name": "python3"
  },
  "language_info": {
   "codemirror_mode": {
    "name": "ipython",
    "version": 3
   },
   "file_extension": ".py",
   "mimetype": "text/x-python",
   "name": "python",
   "nbconvert_exporter": "python",
   "pygments_lexer": "ipython3",
   "version": "3.8.5"
  }
 },
 "nbformat": 4,
 "nbformat_minor": 4
}
